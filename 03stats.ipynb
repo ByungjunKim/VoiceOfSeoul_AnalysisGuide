{
 "nbformat": 4,
 "nbformat_minor": 2,
 "metadata": {
  "language_info": {
   "name": "python",
   "codemirror_mode": {
    "name": "ipython",
    "version": 3
   },
   "version": "3.7.6"
  },
  "orig_nbformat": 2,
  "file_extension": ".py",
  "mimetype": "text/x-python",
  "name": "python",
  "npconvert_exporter": "python",
  "pygments_lexer": "ipython3",
  "version": 3
 },
 "cells": [
  {
   "cell_type": "markdown",
   "execution_count": null,
   "metadata": {},
   "outputs": [],
   "source": [
    "# 00 라이브러리 & 민원분류 결과 로딩"
   ]
  },
  {
   "cell_type": "markdown",
   "execution_count": null,
   "metadata": {},
   "outputs": [],
   "source": [
    "### 라이브러리"
   ]
  },
  {
   "cell_type": "code",
   "execution_count": 1,
   "metadata": {},
   "outputs": [],
   "source": [
    "import pandas as pd\n",
    "import numpy as np\n",
    "import pickle\n",
    "\n",
    "import matplotlib as mpl\n",
    "import matplotlib.pyplot as plt\n",
    "import matplotlib.font_manager as fm\n",
    "plt.rc('font', family='Malgun Gothic')\n",
    "import matplotlib.pyplot as plt\n",
    "import seaborn as sns\n",
    "\n",
    "from sklearn.feature_extraction.text import TfidfTransformer\n",
    "from sklearn.feature_extraction.text import CountVectorizer\n",
    "from sklearn.feature_extraction.text import TfidfVectorizer\n",
    "from sklearn.metrics.pairwise import cosine_similarity"
   ]
  },
  {
   "cell_type": "markdown",
   "execution_count": null,
   "metadata": {},
   "outputs": [],
   "source": [
    "### 민원분류 결과 불러오기"
   ]
  },
  {
   "cell_type": "code",
   "execution_count": 6,
   "metadata": {},
   "outputs": [
    {
     "data": {
      "text/html": "<div>\n<style scoped>\n    .dataframe tbody tr th:only-of-type {\n        vertical-align: middle;\n    }\n\n    .dataframe tbody tr th {\n        vertical-align: top;\n    }\n\n    .dataframe thead th {\n        text-align: right;\n    }\n</style>\n<table border=\"1\" class=\"dataframe\">\n  <thead>\n    <tr style=\"text-align: right;\">\n      <th></th>\n      <th>제안번호</th>\n      <th>제안제목</th>\n      <th>제안내용</th>\n      <th>득표</th>\n      <th>제안등록일자</th>\n      <th>contents</th>\n      <th>tokens</th>\n      <th>all_tokens</th>\n      <th>분류</th>\n      <th>분류2</th>\n    </tr>\n  </thead>\n  <tbody>\n    <tr>\n      <th>0</th>\n      <td>186203</td>\n      <td>중금속 문제가 심각해지고 있는데 중금속으로 분리할수 있는 방법은 없을까요?</td>\n      <td>&lt;span style=\"font-size: 12px;\"&gt;중금속 문제가 심각해지고 있...</td>\n      <td>0</td>\n      <td>2019-12-18 01:21:40</td>\n      <td>중금속 문제가 심각해지고 있는데 중금속으로 분리할수 있는 방법은 없을까요?\\n중금속...</td>\n      <td>['중금속', '중금속', '분리', '중금속', '중금속', '분리', '폐수',...</td>\n      <td>['중금속', '가', '심각', '하', '아', '지', '고', '있', '는...</td>\n      <td>환경</td>\n      <td>안전</td>\n    </tr>\n    <tr>\n      <th>1</th>\n      <td>186202</td>\n      <td>제설제에 사용되는 cacl2에서 염소가 환경오염을 일으킨다는데 친환경적인걸로 바꿔주새요</td>\n      <td>제설제에 사용되는 cacl2에서 염소가 환경오염을 일으킨다는데 친환경적인걸로 바꿔주...</td>\n      <td>0</td>\n      <td>2019-12-18 00:41:00</td>\n      <td>제설제에 사용되는 cacl2에서 염소가 환경오염을 일으킨다는데 친환경적인걸로 바꿔주...</td>\n      <td>['제설', '염소', '환경오염', '일으키다', '환경', '바꾸다', '제설'...</td>\n      <td>['제설', '제', '에', '되', '는', 'cacl', '2', '에서', ...</td>\n      <td>환경</td>\n      <td>안전</td>\n    </tr>\n    <tr>\n      <th>2</th>\n      <td>186201</td>\n      <td>지하철역 위의 임대아파트 건설 후 청년, 신혼부분에게 임대</td>\n      <td>서울시의 경우 지하철이 상당히 발달되어 있어 교통서비스를 제공하고 있습니다.&amp;nbs...</td>\n      <td>0</td>\n      <td>2019-12-17 13:41:34</td>\n      <td>지하철역 위의 임대아파트 건설 후 청년, 신혼부분에게 임대\\n서울시의 경우 지하철이...</td>\n      <td>['지하철역', '위', '임대아파트', '건설', '후', '청년', '신혼', ...</td>\n      <td>['지하철역', '위', '의', '임대아파트', '건설', '후', '청년', '...</td>\n      <td>주택</td>\n      <td>환경</td>\n    </tr>\n    <tr>\n      <th>3</th>\n      <td>186200</td>\n      <td>재활용 정거장이나 원룸에 재활용 쓰레기통 지원을 늘려주세요</td>\n      <td>몇몇구에서는 재활용 쓰레기 분리수거함을 원룸촌에 제공해주는 것으로 알고있는데요. 대...</td>\n      <td>0</td>\n      <td>2019-12-17 11:10:03</td>\n      <td>재활용 정거장이나 원룸에 재활용 쓰레기통 지원을 늘려주세요\\n몇몇구에서는 재활용 쓰...</td>\n      <td>['정거장', '원룸', '쓰레기통', '지원', '늘리다', '주세', '요', ...</td>\n      <td>['재', '정거장', '이나', '원룸', '에', '재', '쓰레기통', '지원...</td>\n      <td>환경</td>\n      <td>문화</td>\n    </tr>\n    <tr>\n      <th>4</th>\n      <td>186199</td>\n      <td>임산부석을 마냥 비워두지 않는 방법</td>\n      <td>&lt;p&gt;저는 지하철을 자주 애용하는 여성입니다.&lt;/p&gt;&lt;p&gt;임산부석이 지정되어 있어 ...</td>\n      <td>0</td>\n      <td>2019-12-17 10:55:54</td>\n      <td>임산부석을 마냥 비워두지 않는 방법\\n저는 지하철을 자주 애용하는 여성입니다.임산부...</td>\n      <td>['임산부', '석', '마냥', '비우다', '저', '지하철', '자주', '애...</td>\n      <td>['임산부', '석', '마냥', '비우', '어', '두', '지', '않', '...</td>\n      <td>교통</td>\n      <td>건강</td>\n    </tr>\n    <tr>\n      <th>...</th>\n      <td>...</td>\n      <td>...</td>\n      <td>...</td>\n      <td>...</td>\n      <td>...</td>\n      <td>...</td>\n      <td>...</td>\n      <td>...</td>\n      <td>...</td>\n      <td>...</td>\n    </tr>\n    <tr>\n      <th>4155</th>\n      <td>180039</td>\n      <td>버스 정류장 근처의 빛  공해를   해결해 주세요  !</td>\n      <td>&amp;nbsp;강동구 5호선 명일역 3번 출구에서 올라오면&amp;nbsp; &amp;nbsp;바로&amp;...</td>\n      <td>0</td>\n      <td>2017-12-22 16:37:33</td>\n      <td>버스 정류장 근처의 빛  공해를   해결해 주세요  !\\n강동구 5호선 명일역 3번...</td>\n      <td>['버스', '정류장', '근처', '빛', '공해', '해결', '강동구', '호...</td>\n      <td>['버스', '정류장', '근처', '의', '빛', '공해', '를', '해결',...</td>\n      <td>교통</td>\n      <td>환경</td>\n    </tr>\n    <tr>\n      <th>4156</th>\n      <td>180038</td>\n      <td>서울시내버스 안내방송을 부탁드려요 !</td>\n      <td>&amp;nbsp;서울 시내 버스를 자주 이용하는 편입니다.&amp;nbsp; 버스 내부에는 주로...</td>\n      <td>1</td>\n      <td>2017-12-21 18:44:46</td>\n      <td>서울시내버스 안내방송을 부탁드려요 !\\n서울 시내 버스를 자주 이용하는 편입니다. ...</td>\n      <td>['서울시내', '버스', '안내', '방송', '드리다', '시내', '버스', ...</td>\n      <td>['서울시내', '버스', '안내', '방송', '드리', '어요', '시내', '...</td>\n      <td>교통</td>\n      <td>여성</td>\n    </tr>\n    <tr>\n      <th>4157</th>\n      <td>180037</td>\n      <td>서울역 인근 버스정류장 명 병행표기 제안.</td>\n      <td>&lt;p&gt;안녕하세요.&lt;/p&gt;&lt;p&gt;버스를 타고 서울역을 자주 지나는데 항상 이에 의문을 ...</td>\n      <td>1</td>\n      <td>2017-12-21 11:13:14</td>\n      <td>서울역 인근 버스정류장 명 병행표기 제안.\\n안녕하세요.버스를 타고 서울역을 자주 ...</td>\n      <td>['서울역', '인근', '버스정류장', '병행', '표기', '버스', '타다',...</td>\n      <td>['서울역', '인근', '버스정류장', '명', '병행', '표기', '하', '...</td>\n      <td>교통</td>\n      <td>문화</td>\n    </tr>\n    <tr>\n      <th>4158</th>\n      <td>180036</td>\n      <td>따릉이 보관소 설치 제안</td>\n      <td>서초역 주변에 따릉이 보관소 설치를 제안합니다!</td>\n      <td>0</td>\n      <td>2017-12-20 18:54:23</td>\n      <td>따릉이 보관소 설치 제안\\n서초역 주변에 따릉이 보관소 설치를 제안합니다!</td>\n      <td>['따릉이', '보관소', '설치', '서초', '역', '따릉이', '보관소', ...</td>\n      <td>['따릉이', '보관소', '설치', '서초', '역', '에', '따릉이', '보...</td>\n      <td>교통</td>\n      <td>환경</td>\n    </tr>\n    <tr>\n      <th>4159</th>\n      <td>180033</td>\n      <td>이륜차(오토바이)업소 주변 행정지도 통해 거리질서 확립필요</td>\n      <td>&lt;p&gt;서울시내 어디를 가보든지간에 이륜차 수리업소를 쉽게 볼 수가 있다,&lt;/p&gt;&lt;p...</td>\n      <td>0</td>\n      <td>2017-12-18 20:33:46</td>\n      <td>이륜차(오토바이)업소 주변 행정지도 통해 거리질서 확립필요\\n서울시내 어디를 가보든...</td>\n      <td>['이륜', '차', '오토바이', '업소', '행정', '지도', '통하다', '...</td>\n      <td>['이륜', '차', '오토바이', '업소', '행정', '지도', '통하', '아...</td>\n      <td>교통</td>\n      <td>안전</td>\n    </tr>\n  </tbody>\n</table>\n<p>4160 rows × 10 columns</p>\n</div>",
      "text/plain": "        제안번호                                              제안제목  \\\n0     186203         중금속 문제가 심각해지고 있는데 중금속으로 분리할수 있는 방법은 없을까요?   \n1     186202  제설제에 사용되는 cacl2에서 염소가 환경오염을 일으킨다는데 친환경적인걸로 바꿔주새요   \n2     186201                  지하철역 위의 임대아파트 건설 후 청년, 신혼부분에게 임대   \n3     186200                  재활용 정거장이나 원룸에 재활용 쓰레기통 지원을 늘려주세요   \n4     186199                               임산부석을 마냥 비워두지 않는 방법   \n...      ...                                               ...   \n4155  180039                    버스 정류장 근처의 빛  공해를   해결해 주세요  !   \n4156  180038                              서울시내버스 안내방송을 부탁드려요 !   \n4157  180037                           서울역 인근 버스정류장 명 병행표기 제안.   \n4158  180036                                     따릉이 보관소 설치 제안   \n4159  180033                  이륜차(오토바이)업소 주변 행정지도 통해 거리질서 확립필요   \n\n                                                   제안내용  득표  \\\n0     <span style=\"font-size: 12px;\">중금속 문제가 심각해지고 있...   0   \n1     제설제에 사용되는 cacl2에서 염소가 환경오염을 일으킨다는데 친환경적인걸로 바꿔주...   0   \n2     서울시의 경우 지하철이 상당히 발달되어 있어 교통서비스를 제공하고 있습니다.&nbs...   0   \n3     몇몇구에서는 재활용 쓰레기 분리수거함을 원룸촌에 제공해주는 것으로 알고있는데요. 대...   0   \n4     <p>저는 지하철을 자주 애용하는 여성입니다.</p><p>임산부석이 지정되어 있어 ...   0   \n...                                                 ...  ..   \n4155  &nbsp;강동구 5호선 명일역 3번 출구에서 올라오면&nbsp; &nbsp;바로&...   0   \n4156  &nbsp;서울 시내 버스를 자주 이용하는 편입니다.&nbsp; 버스 내부에는 주로...   1   \n4157  <p>안녕하세요.</p><p>버스를 타고 서울역을 자주 지나는데 항상 이에 의문을 ...   1   \n4158                         서초역 주변에 따릉이 보관소 설치를 제안합니다!   0   \n4159  <p>서울시내 어디를 가보든지간에 이륜차 수리업소를 쉽게 볼 수가 있다,</p><p...   0   \n\n                  제안등록일자                                           contents  \\\n0    2019-12-18 01:21:40  중금속 문제가 심각해지고 있는데 중금속으로 분리할수 있는 방법은 없을까요?\\n중금속...   \n1    2019-12-18 00:41:00  제설제에 사용되는 cacl2에서 염소가 환경오염을 일으킨다는데 친환경적인걸로 바꿔주...   \n2    2019-12-17 13:41:34  지하철역 위의 임대아파트 건설 후 청년, 신혼부분에게 임대\\n서울시의 경우 지하철이...   \n3    2019-12-17 11:10:03  재활용 정거장이나 원룸에 재활용 쓰레기통 지원을 늘려주세요\\n몇몇구에서는 재활용 쓰...   \n4    2019-12-17 10:55:54  임산부석을 마냥 비워두지 않는 방법\\n저는 지하철을 자주 애용하는 여성입니다.임산부...   \n...                  ...                                                ...   \n4155 2017-12-22 16:37:33  버스 정류장 근처의 빛  공해를   해결해 주세요  !\\n강동구 5호선 명일역 3번...   \n4156 2017-12-21 18:44:46  서울시내버스 안내방송을 부탁드려요 !\\n서울 시내 버스를 자주 이용하는 편입니다. ...   \n4157 2017-12-21 11:13:14  서울역 인근 버스정류장 명 병행표기 제안.\\n안녕하세요.버스를 타고 서울역을 자주 ...   \n4158 2017-12-20 18:54:23          따릉이 보관소 설치 제안\\n서초역 주변에 따릉이 보관소 설치를 제안합니다!   \n4159 2017-12-18 20:33:46  이륜차(오토바이)업소 주변 행정지도 통해 거리질서 확립필요\\n서울시내 어디를 가보든...   \n\n                                                 tokens  \\\n0     ['중금속', '중금속', '분리', '중금속', '중금속', '분리', '폐수',...   \n1     ['제설', '염소', '환경오염', '일으키다', '환경', '바꾸다', '제설'...   \n2     ['지하철역', '위', '임대아파트', '건설', '후', '청년', '신혼', ...   \n3     ['정거장', '원룸', '쓰레기통', '지원', '늘리다', '주세', '요', ...   \n4     ['임산부', '석', '마냥', '비우다', '저', '지하철', '자주', '애...   \n...                                                 ...   \n4155  ['버스', '정류장', '근처', '빛', '공해', '해결', '강동구', '호...   \n4156  ['서울시내', '버스', '안내', '방송', '드리다', '시내', '버스', ...   \n4157  ['서울역', '인근', '버스정류장', '병행', '표기', '버스', '타다',...   \n4158  ['따릉이', '보관소', '설치', '서초', '역', '따릉이', '보관소', ...   \n4159  ['이륜', '차', '오토바이', '업소', '행정', '지도', '통하다', '...   \n\n                                             all_tokens  분류 분류2  \n0     ['중금속', '가', '심각', '하', '아', '지', '고', '있', '는...  환경  안전  \n1     ['제설', '제', '에', '되', '는', 'cacl', '2', '에서', ...  환경  안전  \n2     ['지하철역', '위', '의', '임대아파트', '건설', '후', '청년', '...  주택  환경  \n3     ['재', '정거장', '이나', '원룸', '에', '재', '쓰레기통', '지원...  환경  문화  \n4     ['임산부', '석', '마냥', '비우', '어', '두', '지', '않', '...  교통  건강  \n...                                                 ...  ..  ..  \n4155  ['버스', '정류장', '근처', '의', '빛', '공해', '를', '해결',...  교통  환경  \n4156  ['서울시내', '버스', '안내', '방송', '드리', '어요', '시내', '...  교통  여성  \n4157  ['서울역', '인근', '버스정류장', '명', '병행', '표기', '하', '...  교통  문화  \n4158  ['따릉이', '보관소', '설치', '서초', '역', '에', '따릉이', '보...  교통  환경  \n4159  ['이륜', '차', '오토바이', '업소', '행정', '지도', '통하', '아...  교통  안전  \n\n[4160 rows x 10 columns]"
     },
     "execution_count": 6,
     "metadata": {},
     "output_type": "execute_result"
    }
   ],
   "source": [
    "result_df = pd.read_excel('민원분류 예측결과.xlsx')\n",
    "result_df"
   ]
  },
  {
   "cell_type": "markdown",
   "execution_count": null,
   "metadata": {},
   "outputs": [],
   "source": [
    "# 01 기술통계량 분석 #"
   ]
  },
  {
   "cell_type": "markdown",
   "execution_count": null,
   "metadata": {},
   "outputs": [],
   "source": [
    "## 민원 분류 예측결과 테이블로 정리"
   ]
  },
  {
   "cell_type": "code",
   "execution_count": 16,
   "metadata": {},
   "outputs": [
    {
     "data": {
      "text/html": "<div>\n<style scoped>\n    .dataframe tbody tr th:only-of-type {\n        vertical-align: middle;\n    }\n\n    .dataframe tbody tr th {\n        vertical-align: top;\n    }\n\n    .dataframe thead th {\n        text-align: right;\n    }\n</style>\n<table border=\"1\" class=\"dataframe\">\n  <thead>\n    <tr style=\"text-align: right;\">\n      <th></th>\n      <th>분류</th>\n      <th>분류2</th>\n    </tr>\n  </thead>\n  <tbody>\n    <tr>\n      <th>건강</th>\n      <td>291</td>\n      <td>436</td>\n    </tr>\n    <tr>\n      <th>경제</th>\n      <td>202</td>\n      <td>253</td>\n    </tr>\n    <tr>\n      <th>교통</th>\n      <td>1077</td>\n      <td>437</td>\n    </tr>\n    <tr>\n      <th>문화</th>\n      <td>350</td>\n      <td>435</td>\n    </tr>\n    <tr>\n      <th>복지</th>\n      <td>263</td>\n      <td>315</td>\n    </tr>\n    <tr>\n      <th>세금</th>\n      <td>20</td>\n      <td>38</td>\n    </tr>\n    <tr>\n      <th>안전</th>\n      <td>146</td>\n      <td>595</td>\n    </tr>\n    <tr>\n      <th>여성</th>\n      <td>259</td>\n      <td>189</td>\n    </tr>\n    <tr>\n      <th>주택</th>\n      <td>350</td>\n      <td>275</td>\n    </tr>\n    <tr>\n      <th>환경</th>\n      <td>1202</td>\n      <td>1187</td>\n    </tr>\n  </tbody>\n</table>\n</div>",
      "text/plain": "      분류   분류2\n건강   291   436\n경제   202   253\n교통  1077   437\n문화   350   435\n복지   263   315\n세금    20    38\n안전   146   595\n여성   259   189\n주택   350   275\n환경  1202  1187"
     },
     "execution_count": 16,
     "metadata": {},
     "output_type": "execute_result"
    }
   ],
   "source": [
    "category_table = result_df[['분류','분류2']].apply(pd.Series.value_counts)\n",
    "category_table"
   ]
  },
  {
   "cell_type": "markdown",
   "execution_count": null,
   "metadata": {},
   "outputs": [],
   "source": [
    "### '분류' 내림차순으로 재정렬"
   ]
  },
  {
   "cell_type": "code",
   "execution_count": 23,
   "metadata": {},
   "outputs": [
    {
     "data": {
      "text/html": "<div>\n<style scoped>\n    .dataframe tbody tr th:only-of-type {\n        vertical-align: middle;\n    }\n\n    .dataframe tbody tr th {\n        vertical-align: top;\n    }\n\n    .dataframe thead th {\n        text-align: right;\n    }\n</style>\n<table border=\"1\" class=\"dataframe\">\n  <thead>\n    <tr style=\"text-align: right;\">\n      <th></th>\n      <th>분류</th>\n      <th>분류2</th>\n    </tr>\n  </thead>\n  <tbody>\n    <tr>\n      <th>환경</th>\n      <td>1202</td>\n      <td>1187</td>\n    </tr>\n    <tr>\n      <th>교통</th>\n      <td>1077</td>\n      <td>437</td>\n    </tr>\n    <tr>\n      <th>문화</th>\n      <td>350</td>\n      <td>435</td>\n    </tr>\n    <tr>\n      <th>주택</th>\n      <td>350</td>\n      <td>275</td>\n    </tr>\n    <tr>\n      <th>건강</th>\n      <td>291</td>\n      <td>436</td>\n    </tr>\n    <tr>\n      <th>복지</th>\n      <td>263</td>\n      <td>315</td>\n    </tr>\n    <tr>\n      <th>여성</th>\n      <td>259</td>\n      <td>189</td>\n    </tr>\n    <tr>\n      <th>경제</th>\n      <td>202</td>\n      <td>253</td>\n    </tr>\n    <tr>\n      <th>안전</th>\n      <td>146</td>\n      <td>595</td>\n    </tr>\n    <tr>\n      <th>세금</th>\n      <td>20</td>\n      <td>38</td>\n    </tr>\n  </tbody>\n</table>\n</div>",
      "text/plain": "      분류   분류2\n환경  1202  1187\n교통  1077   437\n문화   350   435\n주택   350   275\n건강   291   436\n복지   263   315\n여성   259   189\n경제   202   253\n안전   146   595\n세금    20    38"
     },
     "execution_count": 23,
     "metadata": {},
     "output_type": "execute_result"
    }
   ],
   "source": [
    "category_table = category_table.sort_values(by='분류',ascending=False)\n",
    "category_table"
   ]
  },
  {
   "cell_type": "markdown",
   "execution_count": null,
   "metadata": {},
   "outputs": [],
   "source": [
    "### 민원 분류 예측결과 테이블 엑셀로 저장"
   ]
  },
  {
   "cell_type": "code",
   "execution_count": 24,
   "metadata": {},
   "outputs": [],
   "source": [
    "category_table.to_excel('./stats/민원분류 예측결과 개수.xlsx',index=None)"
   ]
  },
  {
   "cell_type": "markdown",
   "execution_count": null,
   "metadata": {},
   "outputs": [],
   "source": [
    "## 연도별 민원 비율 트랜드 분석"
   ]
  },
  {
   "cell_type": "markdown",
   "execution_count": null,
   "metadata": {},
   "outputs": [],
   "source": [
    "### '연도' 컬럼 생성"
   ]
  },
  {
   "cell_type": "code",
   "execution_count": 28,
   "metadata": {},
   "outputs": [
    {
     "data": {
      "text/plain": "0       2019\n1       2019\n2       2019\n3       2019\n4       2019\n        ... \n4155    2017\n4156    2017\n4157    2017\n4158    2017\n4159    2017\nName: 연도, Length: 4160, dtype: int64"
     },
     "execution_count": 28,
     "metadata": {},
     "output_type": "execute_result"
    }
   ],
   "source": [
    "result_df['연도'] = result_df['제안등록일자'].dt.year\n",
    "result_df['연도']"
   ]
  },
  {
   "cell_type": "markdown",
   "execution_count": null,
   "metadata": {},
   "outputs": [],
   "source": [
    "### 민원분류-연도 피벗 테이블 생성"
   ]
  },
  {
   "cell_type": "code",
   "execution_count": 64,
   "metadata": {},
   "outputs": [
    {
     "data": {
      "text/html": "<div>\n<style scoped>\n    .dataframe tbody tr th:only-of-type {\n        vertical-align: middle;\n    }\n\n    .dataframe tbody tr th {\n        vertical-align: top;\n    }\n\n    .dataframe thead th {\n        text-align: right;\n    }\n</style>\n<table border=\"1\" class=\"dataframe\">\n  <thead>\n    <tr style=\"text-align: right;\">\n      <th>연도</th>\n      <th>2017</th>\n      <th>2018</th>\n      <th>2019</th>\n    </tr>\n    <tr>\n      <th>분류</th>\n      <th></th>\n      <th></th>\n      <th></th>\n    </tr>\n  </thead>\n  <tbody>\n    <tr>\n      <th>건강</th>\n      <td>0</td>\n      <td>164</td>\n      <td>127</td>\n    </tr>\n    <tr>\n      <th>경제</th>\n      <td>0</td>\n      <td>91</td>\n      <td>111</td>\n    </tr>\n    <tr>\n      <th>교통</th>\n      <td>6</td>\n      <td>412</td>\n      <td>659</td>\n    </tr>\n    <tr>\n      <th>문화</th>\n      <td>0</td>\n      <td>120</td>\n      <td>230</td>\n    </tr>\n    <tr>\n      <th>복지</th>\n      <td>1</td>\n      <td>137</td>\n      <td>125</td>\n    </tr>\n    <tr>\n      <th>세금</th>\n      <td>0</td>\n      <td>8</td>\n      <td>12</td>\n    </tr>\n    <tr>\n      <th>안전</th>\n      <td>2</td>\n      <td>85</td>\n      <td>59</td>\n    </tr>\n    <tr>\n      <th>여성</th>\n      <td>0</td>\n      <td>139</td>\n      <td>120</td>\n    </tr>\n    <tr>\n      <th>주택</th>\n      <td>0</td>\n      <td>239</td>\n      <td>111</td>\n    </tr>\n    <tr>\n      <th>환경</th>\n      <td>0</td>\n      <td>561</td>\n      <td>641</td>\n    </tr>\n  </tbody>\n</table>\n</div>",
      "text/plain": "연도  2017  2018  2019\n분류                  \n건강     0   164   127\n경제     0    91   111\n교통     6   412   659\n문화     0   120   230\n복지     1   137   125\n세금     0     8    12\n안전     2    85    59\n여성     0   139   120\n주택     0   239   111\n환경     0   561   641"
     },
     "execution_count": 64,
     "metadata": {},
     "output_type": "execute_result"
    }
   ],
   "source": [
    "# 연도별 민원 분류 개수 테이블\n",
    "category_year_size = pd.crosstab(result_df['분류'],result_df['연도'])\n",
    "category_year_size"
   ]
  },
  {
   "cell_type": "code",
   "execution_count": 65,
   "metadata": {},
   "outputs": [
    {
     "data": {
      "text/html": "<div>\n<style scoped>\n    .dataframe tbody tr th:only-of-type {\n        vertical-align: middle;\n    }\n\n    .dataframe tbody tr th {\n        vertical-align: top;\n    }\n\n    .dataframe thead th {\n        text-align: right;\n    }\n</style>\n<table border=\"1\" class=\"dataframe\">\n  <thead>\n    <tr style=\"text-align: right;\">\n      <th>연도</th>\n      <th>2017</th>\n      <th>2018</th>\n      <th>2019</th>\n    </tr>\n    <tr>\n      <th>분류</th>\n      <th></th>\n      <th></th>\n      <th></th>\n    </tr>\n  </thead>\n  <tbody>\n    <tr>\n      <th>건강</th>\n      <td>0.000000</td>\n      <td>8.384458</td>\n      <td>5.785877</td>\n    </tr>\n    <tr>\n      <th>경제</th>\n      <td>0.000000</td>\n      <td>4.652352</td>\n      <td>5.056948</td>\n    </tr>\n    <tr>\n      <th>교통</th>\n      <td>66.666667</td>\n      <td>21.063395</td>\n      <td>30.022779</td>\n    </tr>\n    <tr>\n      <th>문화</th>\n      <td>0.000000</td>\n      <td>6.134969</td>\n      <td>10.478360</td>\n    </tr>\n    <tr>\n      <th>복지</th>\n      <td>11.111111</td>\n      <td>7.004090</td>\n      <td>5.694761</td>\n    </tr>\n    <tr>\n      <th>세금</th>\n      <td>0.000000</td>\n      <td>0.408998</td>\n      <td>0.546697</td>\n    </tr>\n    <tr>\n      <th>안전</th>\n      <td>22.222222</td>\n      <td>4.345603</td>\n      <td>2.687927</td>\n    </tr>\n    <tr>\n      <th>여성</th>\n      <td>0.000000</td>\n      <td>7.106339</td>\n      <td>5.466970</td>\n    </tr>\n    <tr>\n      <th>주택</th>\n      <td>0.000000</td>\n      <td>12.218814</td>\n      <td>5.056948</td>\n    </tr>\n    <tr>\n      <th>환경</th>\n      <td>0.000000</td>\n      <td>28.680982</td>\n      <td>29.202733</td>\n    </tr>\n  </tbody>\n</table>\n</div>",
      "text/plain": "연도       2017       2018       2019\n분류                                 \n건강   0.000000   8.384458   5.785877\n경제   0.000000   4.652352   5.056948\n교통  66.666667  21.063395  30.022779\n문화   0.000000   6.134969  10.478360\n복지  11.111111   7.004090   5.694761\n세금   0.000000   0.408998   0.546697\n안전  22.222222   4.345603   2.687927\n여성   0.000000   7.106339   5.466970\n주택   0.000000  12.218814   5.056948\n환경   0.000000  28.680982  29.202733"
     },
     "execution_count": 65,
     "metadata": {},
     "output_type": "execute_result"
    }
   ],
   "source": [
    "# 연도별 민원 분류 비율 테이블\n",
    "category_year_percent = pd.crosstab(result_df['분류'],result_df['연도']).apply(lambda x:x/x.sum()*100,axis=0)\n",
    "category_year_percent"
   ]
  },
  {
   "cell_type": "code",
   "execution_count": 72,
   "metadata": {},
   "outputs": [
    {
     "data": {
      "text/html": "<div>\n<style scoped>\n    .dataframe tbody tr th:only-of-type {\n        vertical-align: middle;\n    }\n\n    .dataframe tbody tr th {\n        vertical-align: top;\n    }\n\n    .dataframe thead th {\n        text-align: right;\n    }\n</style>\n<table border=\"1\" class=\"dataframe\">\n  <thead>\n    <tr style=\"text-align: right;\">\n      <th>연도</th>\n      <th>2017</th>\n      <th>2018</th>\n      <th>2019</th>\n      <th>2017</th>\n      <th>2018</th>\n      <th>2019</th>\n    </tr>\n    <tr>\n      <th>분류</th>\n      <th></th>\n      <th></th>\n      <th></th>\n      <th></th>\n      <th></th>\n      <th></th>\n    </tr>\n  </thead>\n  <tbody>\n    <tr>\n      <th>건강</th>\n      <td>0</td>\n      <td>164</td>\n      <td>127</td>\n      <td>0.000000</td>\n      <td>8.384458</td>\n      <td>5.785877</td>\n    </tr>\n    <tr>\n      <th>경제</th>\n      <td>0</td>\n      <td>91</td>\n      <td>111</td>\n      <td>0.000000</td>\n      <td>4.652352</td>\n      <td>5.056948</td>\n    </tr>\n    <tr>\n      <th>교통</th>\n      <td>6</td>\n      <td>412</td>\n      <td>659</td>\n      <td>66.666667</td>\n      <td>21.063395</td>\n      <td>30.022779</td>\n    </tr>\n    <tr>\n      <th>문화</th>\n      <td>0</td>\n      <td>120</td>\n      <td>230</td>\n      <td>0.000000</td>\n      <td>6.134969</td>\n      <td>10.478360</td>\n    </tr>\n    <tr>\n      <th>복지</th>\n      <td>1</td>\n      <td>137</td>\n      <td>125</td>\n      <td>11.111111</td>\n      <td>7.004090</td>\n      <td>5.694761</td>\n    </tr>\n    <tr>\n      <th>세금</th>\n      <td>0</td>\n      <td>8</td>\n      <td>12</td>\n      <td>0.000000</td>\n      <td>0.408998</td>\n      <td>0.546697</td>\n    </tr>\n    <tr>\n      <th>안전</th>\n      <td>2</td>\n      <td>85</td>\n      <td>59</td>\n      <td>22.222222</td>\n      <td>4.345603</td>\n      <td>2.687927</td>\n    </tr>\n    <tr>\n      <th>여성</th>\n      <td>0</td>\n      <td>139</td>\n      <td>120</td>\n      <td>0.000000</td>\n      <td>7.106339</td>\n      <td>5.466970</td>\n    </tr>\n    <tr>\n      <th>주택</th>\n      <td>0</td>\n      <td>239</td>\n      <td>111</td>\n      <td>0.000000</td>\n      <td>12.218814</td>\n      <td>5.056948</td>\n    </tr>\n    <tr>\n      <th>환경</th>\n      <td>0</td>\n      <td>561</td>\n      <td>641</td>\n      <td>0.000000</td>\n      <td>28.680982</td>\n      <td>29.202733</td>\n    </tr>\n  </tbody>\n</table>\n</div>",
      "text/plain": "연도  2017  2018  2019       2017       2018       2019\n분류                                                   \n건강     0   164   127   0.000000   8.384458   5.785877\n경제     0    91   111   0.000000   4.652352   5.056948\n교통     6   412   659  66.666667  21.063395  30.022779\n문화     0   120   230   0.000000   6.134969  10.478360\n복지     1   137   125  11.111111   7.004090   5.694761\n세금     0     8    12   0.000000   0.408998   0.546697\n안전     2    85    59  22.222222   4.345603   2.687927\n여성     0   139   120   0.000000   7.106339   5.466970\n주택     0   239   111   0.000000  12.218814   5.056948\n환경     0   561   641   0.000000  28.680982  29.202733"
     },
     "execution_count": 72,
     "metadata": {},
     "output_type": "execute_result"
    }
   ],
   "source": [
    "# 연도별 민원 분류 개수/비율 테이블 통합\n",
    "pd.concat([category_year_size,category_year_percent],axis=1)"
   ]
  },
  {
   "cell_type": "code",
   "execution_count": 73,
   "metadata": {},
   "outputs": [],
   "source": [
    "# 연도별 민원 분류 개수/비율 테이블 엑셀로 저장\n",
    "pd.concat([category_year_size,category_year_percent],axis=1).to_excel('./stats/연도별 민원분류 통계.xlsx',index=None)"
   ]
  },
  {
   "cell_type": "markdown",
   "execution_count": null,
   "metadata": {},
   "outputs": [],
   "source": [
    "# 02 단어 빈도수 통계 추출"
   ]
  }
 ]
}